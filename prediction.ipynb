{
 "cells": [
  {
   "cell_type": "markdown",
   "metadata": {},
   "source": [
    "# Using LightGBM to predict and analyze personal risks on loans in finance industry"
   ]
  },
  {
   "cell_type": "markdown",
   "metadata": {},
   "source": [
    "[*Datasets information:*](https://www.datafountain.cn/competitions/530/datasets)\n",
    "1. train_public.csv: personal load violation records\n",
    "2. train_internet_public.csv: a violation records of from a Fintech product/service\n",
    "3. test_public.csv : for prediction testing\n",
    "\n",
    "**Result:**\n",
    "\n",
    "0.84"
   ]
  },
  {
   "cell_type": "code",
   "execution_count": 1,
   "metadata": {},
   "outputs": [],
   "source": [
    "import pandas as pd\n",
    "from matplotlib import pyplot as plt\n",
    "import seaborn\n",
    "import lightgbm"
   ]
  },
  {
   "cell_type": "markdown",
   "metadata": {},
   "source": [
    "train_public.csv 个人贷款违约记录数据\n",
    "train_internet_public.csv 某网络信用贷产品违约记录数据\n",
    "test_public.csv 用于测试的数据，获取榜单排名"
   ]
  },
  {
   "cell_type": "markdown",
   "metadata": {},
   "source": [
    "**Begin preprocessing**"
   ]
  },
  {
   "cell_type": "code",
   "execution_count": 2,
   "metadata": {},
   "outputs": [],
   "source": [
    "##read the train and test datasets \n",
    "train_bank = pd.read_csv('./raw_data/train_public.csv')\n",
    "train_internet = pd.read_csv('./raw_data/train_internet.csv')\n"
   ]
  },
  {
   "cell_type": "code",
   "execution_count": 47,
   "metadata": {},
   "outputs": [],
   "source": [
    "test = pd.read_csv('./raw_data/test_public.csv')"
   ]
  },
  {
   "cell_type": "code",
   "execution_count": 3,
   "metadata": {},
   "outputs": [
    {
     "name": "stdout",
     "output_type": "stream",
     "text": [
      "['loan_id', 'user_id', 'total_loan', 'year_of_loan', 'interest', 'monthly_payment', 'class', 'employer_type', 'industry', 'work_year', 'house_exist', 'censor_status', 'issue_date', 'use', 'post_code', 'region', 'debt_loan_ratio', 'del_in_18month', 'scoring_low', 'scoring_high', 'pub_dero_bankrup', 'recircle_b', 'recircle_u', 'initial_list_status', 'earlies_credit_mon', 'title', 'policy_code', 'f0', 'f1', 'f2', 'f3', 'f4', 'early_return', 'early_return_amount', 'early_return_amount_3mon', 'is_default']\n"
     ]
    },
    {
     "data": {
      "text/plain": [
       "36"
      ]
     },
     "execution_count": 3,
     "metadata": {},
     "output_type": "execute_result"
    }
   ],
   "source": [
    "## this will check the common column names between the train dataset and the train dataset\n",
    "##      from the Fintech data\n",
    "common_cols = []\n",
    "for col in train_bank.columns:\n",
    "    if col in train_internet.columns:\n",
    "        common_cols.append(col)\n",
    "    else:\n",
    "        continue\n",
    "\n",
    "print(common_cols)\n",
    "len(common_cols)"
   ]
  },
  {
   "cell_type": "code",
   "execution_count": 4,
   "metadata": {},
   "outputs": [
    {
     "name": "stdout",
     "output_type": "stream",
     "text": [
      "39\n",
      "42\n"
     ]
    }
   ],
   "source": [
    "print(len(train_bank.columns)) ## 39 columns\n",
    "print(len(train_internet.columns)) ## 42 columns"
   ]
  },
  {
   "cell_type": "code",
   "execution_count": 5,
   "metadata": {},
   "outputs": [
    {
     "name": "stdout",
     "output_type": "stream",
     "text": [
      "unique train_bank col: ['app_type', 'known_outstanding_loan', 'known_dero'] \n",
      "unique train_internet col: ['offsprings', 'marriage', 'house_loan_status', 'f5', 'sub_class', 'work_type']\n"
     ]
    }
   ],
   "source": [
    "train_bank_left = list(set(list(train_bank.columns)) - set(common_cols))\n",
    "train_internet_left = list(set(list(train_internet.columns)) - set(common_cols))\n",
    "print('unique train_bank col:', train_bank_left,\n",
    "        '\\nunique train_internet col:', train_internet_left)"
   ]
  },
  {
   "cell_type": "code",
   "execution_count": 6,
   "metadata": {},
   "outputs": [],
   "source": [
    "## Extract of common columns\n",
    "train1_data = train_bank[common_cols]\n",
    "train2_data = train_internet[common_cols]\n"
   ]
  },
  {
   "cell_type": "code",
   "execution_count": 48,
   "metadata": {},
   "outputs": [],
   "source": [
    "test_data = test[common_cols[:-1]] ##remove `is_default`"
   ]
  },
  {
   "cell_type": "markdown",
   "metadata": {},
   "source": [
    "## Start using LightGBM"
   ]
  },
  {
   "cell_type": "code",
   "execution_count": 7,
   "metadata": {},
   "outputs": [
    {
     "data": {
      "text/html": [
       "<div>\n",
       "<style scoped>\n",
       "    .dataframe tbody tr th:only-of-type {\n",
       "        vertical-align: middle;\n",
       "    }\n",
       "\n",
       "    .dataframe tbody tr th {\n",
       "        vertical-align: top;\n",
       "    }\n",
       "\n",
       "    .dataframe thead th {\n",
       "        text-align: right;\n",
       "    }\n",
       "</style>\n",
       "<table border=\"1\" class=\"dataframe\">\n",
       "  <thead>\n",
       "    <tr style=\"text-align: right;\">\n",
       "      <th></th>\n",
       "      <th>class</th>\n",
       "      <th>employer_type</th>\n",
       "      <th>industry</th>\n",
       "      <th>work_year</th>\n",
       "      <th>issue_date</th>\n",
       "      <th>earlies_credit_mon</th>\n",
       "    </tr>\n",
       "  </thead>\n",
       "  <tbody>\n",
       "    <tr>\n",
       "      <th>0</th>\n",
       "      <td>C</td>\n",
       "      <td>政府机构</td>\n",
       "      <td>金融业</td>\n",
       "      <td>3 years</td>\n",
       "      <td>2016/10/1</td>\n",
       "      <td>1-Dec</td>\n",
       "    </tr>\n",
       "    <tr>\n",
       "      <th>1</th>\n",
       "      <td>C</td>\n",
       "      <td>政府机构</td>\n",
       "      <td>金融业</td>\n",
       "      <td>10+ years</td>\n",
       "      <td>2013/6/1</td>\n",
       "      <td>Apr-90</td>\n",
       "    </tr>\n",
       "    <tr>\n",
       "      <th>2</th>\n",
       "      <td>A</td>\n",
       "      <td>政府机构</td>\n",
       "      <td>公共服务、社会组织</td>\n",
       "      <td>10+ years</td>\n",
       "      <td>2014/1/1</td>\n",
       "      <td>Oct-91</td>\n",
       "    </tr>\n",
       "    <tr>\n",
       "      <th>3</th>\n",
       "      <td>A</td>\n",
       "      <td>世界五百强</td>\n",
       "      <td>文化和体育业</td>\n",
       "      <td>6 years</td>\n",
       "      <td>2015/7/1</td>\n",
       "      <td>1-Jun</td>\n",
       "    </tr>\n",
       "    <tr>\n",
       "      <th>4</th>\n",
       "      <td>C</td>\n",
       "      <td>政府机构</td>\n",
       "      <td>信息传输、软件和信息技术服务业</td>\n",
       "      <td>&lt; 1 year</td>\n",
       "      <td>2016/7/1</td>\n",
       "      <td>2-May</td>\n",
       "    </tr>\n",
       "    <tr>\n",
       "      <th>...</th>\n",
       "      <td>...</td>\n",
       "      <td>...</td>\n",
       "      <td>...</td>\n",
       "      <td>...</td>\n",
       "      <td>...</td>\n",
       "      <td>...</td>\n",
       "    </tr>\n",
       "    <tr>\n",
       "      <th>9995</th>\n",
       "      <td>B</td>\n",
       "      <td>普通企业</td>\n",
       "      <td>建筑业</td>\n",
       "      <td>7 years</td>\n",
       "      <td>2013/11/1</td>\n",
       "      <td>6-Feb</td>\n",
       "    </tr>\n",
       "    <tr>\n",
       "      <th>9996</th>\n",
       "      <td>A</td>\n",
       "      <td>政府机构</td>\n",
       "      <td>农、林、牧、渔业</td>\n",
       "      <td>2 years</td>\n",
       "      <td>2015/12/1</td>\n",
       "      <td>May-97</td>\n",
       "    </tr>\n",
       "    <tr>\n",
       "      <th>9997</th>\n",
       "      <td>B</td>\n",
       "      <td>普通企业</td>\n",
       "      <td>信息传输、软件和信息技术服务业</td>\n",
       "      <td>10+ years</td>\n",
       "      <td>2012/12/1</td>\n",
       "      <td>Feb-87</td>\n",
       "    </tr>\n",
       "    <tr>\n",
       "      <th>9998</th>\n",
       "      <td>D</td>\n",
       "      <td>政府机构</td>\n",
       "      <td>农、林、牧、渔业</td>\n",
       "      <td>10+ years</td>\n",
       "      <td>2018/3/1</td>\n",
       "      <td>Oct-92</td>\n",
       "    </tr>\n",
       "    <tr>\n",
       "      <th>9999</th>\n",
       "      <td>C</td>\n",
       "      <td>高等教育机构</td>\n",
       "      <td>信息传输、软件和信息技术服务业</td>\n",
       "      <td>7 years</td>\n",
       "      <td>2017/5/1</td>\n",
       "      <td>9-Feb</td>\n",
       "    </tr>\n",
       "  </tbody>\n",
       "</table>\n",
       "<p>10000 rows × 6 columns</p>\n",
       "</div>"
      ],
      "text/plain": [
       "     class employer_type         industry  work_year issue_date  \\\n",
       "0        C          政府机构              金融业    3 years  2016/10/1   \n",
       "1        C          政府机构              金融业  10+ years   2013/6/1   \n",
       "2        A          政府机构        公共服务、社会组织  10+ years   2014/1/1   \n",
       "3        A         世界五百强           文化和体育业    6 years   2015/7/1   \n",
       "4        C          政府机构  信息传输、软件和信息技术服务业   < 1 year   2016/7/1   \n",
       "...    ...           ...              ...        ...        ...   \n",
       "9995     B          普通企业              建筑业    7 years  2013/11/1   \n",
       "9996     A          政府机构         农、林、牧、渔业    2 years  2015/12/1   \n",
       "9997     B          普通企业  信息传输、软件和信息技术服务业  10+ years  2012/12/1   \n",
       "9998     D          政府机构         农、林、牧、渔业  10+ years   2018/3/1   \n",
       "9999     C        高等教育机构  信息传输、软件和信息技术服务业    7 years   2017/5/1   \n",
       "\n",
       "     earlies_credit_mon  \n",
       "0                 1-Dec  \n",
       "1                Apr-90  \n",
       "2                Oct-91  \n",
       "3                 1-Jun  \n",
       "4                 2-May  \n",
       "...                 ...  \n",
       "9995              6-Feb  \n",
       "9996             May-97  \n",
       "9997             Feb-87  \n",
       "9998             Oct-92  \n",
       "9999              9-Feb  \n",
       "\n",
       "[10000 rows x 6 columns]"
      ]
     },
     "execution_count": 7,
     "metadata": {},
     "output_type": "execute_result"
    }
   ],
   "source": [
    "train1_data.info\n",
    "train1_data.select_dtypes(include = 'O')"
   ]
  },
  {
   "cell_type": "markdown",
   "metadata": {},
   "source": [
    "I found string data types and they are unacceptable for LightGBM, so I'm going to use onehot label with char, and timestamp or timeDiff for string formatted time (will decide later based on the efficency).\n",
    "\n",
    "Methods:\n",
    "`issue_Date`, `EarliesCreditLine` will be converted to datatime format by using Pandas package;\n",
    "`employer_type`, `industry` will be converted to label using OneHot label encoder"
   ]
  },
  {
   "cell_type": "code",
   "execution_count": 8,
   "metadata": {},
   "outputs": [],
   "source": [
    "import datetime\n",
    "# default='warn', ignore the operations on the chained assignment and do not want a copy \n",
    "##      of the dataset. Also used loc to perform selection on the processed datasets\n",
    "pd.options.mode.chained_assignment = None  \n",
    "\n",
    "train1_data.loc[:,'issue_date'] = pd.to_datetime(train1_data['issue_date'])\n",
    "train1_data.loc[:, 'issue_date_y'] = train1_data['issue_date'].dt.year\n",
    "train1_data.loc[:, 'issue_date_m'] = train1_data['issue_date'].dt.month\n",
    "\n",
    "## train1_data['issue_date'].min() \n",
    "## returned: Timestamp('2007-10-01 00:00:00')\n",
    "base_time = datetime.datetime.strptime('2007-10-01','%Y-%m-%d')\n",
    "train1_data['issues_date_diff'] = train1_data.loc[:,'issue_date'].apply(lambda x: x - base_time).dt.days\n"
   ]
  },
  {
   "cell_type": "code",
   "execution_count": 9,
   "metadata": {},
   "outputs": [],
   "source": [
    "## after calculation the year, month, and datediff, `issue_date` wont be necessary anymore \n",
    "train1_data.drop('issue_date', axis=1, inplace=True) "
   ]
  },
  {
   "cell_type": "code",
   "execution_count": 10,
   "metadata": {},
   "outputs": [],
   "source": [
    "## Applying to similar rules for train2 dataset\n",
    "train2_data.loc[:,'issue_date'] = pd.to_datetime(train2_data['issue_date'])\n",
    "train2_data.loc[:, 'issue_date_y'] = train2_data['issue_date'].dt.year\n",
    "train2_data.loc[:, 'issue_date_m'] = train2_data['issue_date'].dt.month\n",
    "\n",
    "## train1_data['issue_date'].min() \n",
    "## returned: Timestamp('2007-10-01 00:00:00')\n",
    "base_time = datetime.datetime.strptime('2007-10-01','%Y-%m-%d')\n",
    "train2_data['issues_date_diff'] = train2_data.loc[:,'issue_date'].apply(lambda x: x - base_time).dt.days\n"
   ]
  },
  {
   "cell_type": "code",
   "execution_count": 11,
   "metadata": {},
   "outputs": [],
   "source": [
    "train2_data.drop('issue_date', axis=1, inplace=True) ##uncomment this row before re-run"
   ]
  },
  {
   "cell_type": "code",
   "execution_count": 12,
   "metadata": {},
   "outputs": [],
   "source": [
    "employer_type = train1_data['employer_type'].value_counts().index\n",
    "industry = train1_data['industry'].value_counts().index \n",
    "\n",
    "empt_employer_dict = dict(zip(employer_type,[i for i in range(5)]))\n",
    "empt_industry_dict = dict(zip(industry,[i for i in range(14)]))\n",
    "\n",
    "train1_data['employer_type'] = train1_data['employer_type'].map(empt_employer_dict)\n",
    "train2_data['employer_type'] = train2_data['employer_type'].map(empt_employer_dict)\n",
    "\n",
    "train1_data['industry'] = train1_data['industry'].map(empt_industry_dict)\n",
    "train2_data['industry'] = train2_data['industry'].map(empt_industry_dict)"
   ]
  },
  {
   "cell_type": "code",
   "execution_count": 13,
   "metadata": {},
   "outputs": [],
   "source": [
    "##train1_data['work_year'].isnull().sum() \n",
    "#   622 missing value, so I decide need to use fillna\n",
    "# train1_data['work_year'].isnull().sum() \n",
    "#   43847 missing value, same method to fill the nulls\n",
    "\n",
    "## arbitary decisions made here\n",
    "train1_data['work_year'].fillna('10+ years', inplace=True)\n",
    "train2_data['work_year'].fillna('10+ years', inplace=True)\n",
    "\n",
    "## Didn't use label encoder here because of the corresponding relationships\n",
    "##    between work year and the label \n",
    "work_year_list = list(train1_data['work_year'].value_counts().index)\n",
    "work_year_coder = [10, 2, 3, 0, 1, 5, 4, 6, 8, 7, 9]\n",
    "work_year_dict = dict(zip(work_year_list, work_year_coder))\n",
    "\n",
    "train1_data['work_year'] = train1_data['work_year'].map(work_year_dict)\n",
    "train2_data['work_year'] = train2_data['work_year'].map(work_year_dict)"
   ]
  },
  {
   "cell_type": "code",
   "execution_count": 14,
   "metadata": {},
   "outputs": [],
   "source": [
    "train1_data['class'] = train1_data['class'].map({'A':0, 'B':1, 'C':2, 'D':3, 'E':4,'F':5, 'G':6})\n",
    "train2_data['class'] = train2_data['class'].map({'A':0, 'B':1, 'C':2, 'D':3, 'E':4,'F':5, 'G':6})"
   ]
  },
  {
   "cell_type": "markdown",
   "metadata": {},
   "source": [
    "Similarly, apply data cleaning and formatting rules for the test dataset"
   ]
  },
  {
   "cell_type": "code",
   "execution_count": 49,
   "metadata": {},
   "outputs": [],
   "source": [
    "test_data.loc[:,'issue_date'] = pd.to_datetime(test_data['issue_date'])\n",
    "test_data.loc[:, 'issue_date_y'] = test_data['issue_date'].dt.year\n",
    "test_data.loc[:, 'issue_date_m'] = test_data['issue_date'].dt.month\n",
    "test_data['issues_date_diff'] = test_data.loc[:,'issue_date'].apply(lambda x: x - base_time).dt.days\n",
    "\n",
    "test_data['employer_type'] = test_data['employer_type'].map(empt_employer_dict)\n",
    "test_data['industry'] = test_data['industry'].map(empt_industry_dict)\n",
    "test_data['work_year'].fillna('10+ years', inplace=True)\n",
    "test_data['work_year'] = test_data['work_year'].map(work_year_dict)\n",
    "test_data['class'] = test_data['class'].map({'A':0, 'B':1, 'C':2, 'D':3, 'E':4,'F':5, 'G':6})"
   ]
  },
  {
   "cell_type": "code",
   "execution_count": 50,
   "metadata": {},
   "outputs": [],
   "source": [
    "test_data.drop('issue_date', axis=1, inplace=True)\n"
   ]
  },
  {
   "cell_type": "code",
   "execution_count": 17,
   "metadata": {},
   "outputs": [],
   "source": [
    "import lightgbm as lgb\n",
    "from sklearn import metrics\n",
    "import pickle "
   ]
  },
  {
   "cell_type": "code",
   "execution_count": 23,
   "metadata": {},
   "outputs": [],
   "source": [
    "X_train1 = train1_data.drop(['loan_id','user_id','is_default','earlies_credit_mon'], axis=1)\n",
    "y_train1 = train1_data['is_default']"
   ]
  },
  {
   "cell_type": "code",
   "execution_count": 24,
   "metadata": {},
   "outputs": [],
   "source": [
    "X_train2 = train2_data.drop(['loan_id','user_id','is_default','earlies_credit_mon'], axis=1)\n",
    "y_train2 = train2_data['is_default']"
   ]
  },
  {
   "cell_type": "code",
   "execution_count": 25,
   "metadata": {},
   "outputs": [],
   "source": [
    "X_train = pd.concat([X_train1,X_train2])\n",
    "y_train = pd.concat([y_train1, y_train2])"
   ]
  },
  {
   "cell_type": "code",
   "execution_count": 57,
   "metadata": {},
   "outputs": [],
   "source": [
    "X_test = test_data.drop(['loan_id','user_id','earlies_credit_mon'], axis=1)"
   ]
  },
  {
   "cell_type": "code",
   "execution_count": 58,
   "metadata": {},
   "outputs": [],
   "source": [
    "clf_ex = lgb.LGBMClassifier(n_estimators=200)\n",
    "clf_ex.fit(X=X_train, y = y_train)\n",
    "with open ('./clf_ex.pkl','wb') as file:\n",
    "    pickle.dump(clf_ex, file)\n",
    "pred = clf_ex.predict(X_test)"
   ]
  },
  {
   "cell_type": "code",
   "execution_count": 71,
   "metadata": {},
   "outputs": [],
   "source": [
    "pred_probability = clf_ex.predict_proba(X_test)[:,1]"
   ]
  },
  {
   "cell_type": "code",
   "execution_count": 72,
   "metadata": {},
   "outputs": [],
   "source": [
    "result = pd.DataFrame({'id':test['loan_id'], 'isDefault':pred, 'probability_score':pred_probability})\n",
    "result.to_csv('baseline_lgbCls.csv', index = None)"
   ]
  },
  {
   "cell_type": "code",
   "execution_count": 73,
   "metadata": {},
   "outputs": [
    {
     "data": {
      "text/html": [
       "<div>\n",
       "<style scoped>\n",
       "    .dataframe tbody tr th:only-of-type {\n",
       "        vertical-align: middle;\n",
       "    }\n",
       "\n",
       "    .dataframe tbody tr th {\n",
       "        vertical-align: top;\n",
       "    }\n",
       "\n",
       "    .dataframe thead th {\n",
       "        text-align: right;\n",
       "    }\n",
       "</style>\n",
       "<table border=\"1\" class=\"dataframe\">\n",
       "  <thead>\n",
       "    <tr style=\"text-align: right;\">\n",
       "      <th></th>\n",
       "      <th>id</th>\n",
       "      <th>isDefault</th>\n",
       "      <th>probability_score</th>\n",
       "    </tr>\n",
       "  </thead>\n",
       "  <tbody>\n",
       "    <tr>\n",
       "      <th>0</th>\n",
       "      <td>1000575</td>\n",
       "      <td>0</td>\n",
       "      <td>0.007183</td>\n",
       "    </tr>\n",
       "    <tr>\n",
       "      <th>1</th>\n",
       "      <td>1028125</td>\n",
       "      <td>0</td>\n",
       "      <td>0.009214</td>\n",
       "    </tr>\n",
       "    <tr>\n",
       "      <th>2</th>\n",
       "      <td>1010694</td>\n",
       "      <td>0</td>\n",
       "      <td>0.003304</td>\n",
       "    </tr>\n",
       "    <tr>\n",
       "      <th>3</th>\n",
       "      <td>1026712</td>\n",
       "      <td>0</td>\n",
       "      <td>0.008577</td>\n",
       "    </tr>\n",
       "    <tr>\n",
       "      <th>4</th>\n",
       "      <td>1002895</td>\n",
       "      <td>0</td>\n",
       "      <td>0.004391</td>\n",
       "    </tr>\n",
       "    <tr>\n",
       "      <th>...</th>\n",
       "      <td>...</td>\n",
       "      <td>...</td>\n",
       "      <td>...</td>\n",
       "    </tr>\n",
       "    <tr>\n",
       "      <th>4995</th>\n",
       "      <td>1008856</td>\n",
       "      <td>1</td>\n",
       "      <td>0.503161</td>\n",
       "    </tr>\n",
       "    <tr>\n",
       "      <th>4996</th>\n",
       "      <td>1016651</td>\n",
       "      <td>0</td>\n",
       "      <td>0.063326</td>\n",
       "    </tr>\n",
       "    <tr>\n",
       "      <th>4997</th>\n",
       "      <td>1024140</td>\n",
       "      <td>0</td>\n",
       "      <td>0.003433</td>\n",
       "    </tr>\n",
       "    <tr>\n",
       "      <th>4998</th>\n",
       "      <td>1014316</td>\n",
       "      <td>0</td>\n",
       "      <td>0.002917</td>\n",
       "    </tr>\n",
       "    <tr>\n",
       "      <th>4999</th>\n",
       "      <td>1012946</td>\n",
       "      <td>0</td>\n",
       "      <td>0.007482</td>\n",
       "    </tr>\n",
       "  </tbody>\n",
       "</table>\n",
       "<p>5000 rows × 3 columns</p>\n",
       "</div>"
      ],
      "text/plain": [
       "           id  isDefault  probability_score\n",
       "0     1000575          0           0.007183\n",
       "1     1028125          0           0.009214\n",
       "2     1010694          0           0.003304\n",
       "3     1026712          0           0.008577\n",
       "4     1002895          0           0.004391\n",
       "...       ...        ...                ...\n",
       "4995  1008856          1           0.503161\n",
       "4996  1016651          0           0.063326\n",
       "4997  1024140          0           0.003433\n",
       "4998  1014316          0           0.002917\n",
       "4999  1012946          0           0.007482\n",
       "\n",
       "[5000 rows x 3 columns]"
      ]
     },
     "execution_count": 73,
     "metadata": {},
     "output_type": "execute_result"
    }
   ],
   "source": []
  },
  {
   "cell_type": "code",
   "execution_count": null,
   "metadata": {},
   "outputs": [],
   "source": []
  }
 ],
 "metadata": {
  "interpreter": {
   "hash": "7cfc4a8f7503463beba85e020a8b6fe78ab2f9e4282be3631cbb712bbdb25cd0"
  },
  "kernelspec": {
   "display_name": "Python 3.8.2 64-bit ('pydata': conda)",
   "language": "python",
   "name": "python3"
  },
  "language_info": {
   "codemirror_mode": {
    "name": "ipython",
    "version": 3
   },
   "file_extension": ".py",
   "mimetype": "text/x-python",
   "name": "python",
   "nbconvert_exporter": "python",
   "pygments_lexer": "ipython3",
   "version": "3.8.2"
  },
  "orig_nbformat": 4
 },
 "nbformat": 4,
 "nbformat_minor": 2
}
